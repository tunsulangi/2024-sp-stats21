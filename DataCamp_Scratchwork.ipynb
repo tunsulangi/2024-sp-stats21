{
 "cells": [
  {
   "cell_type": "markdown",
   "id": "bb81573c",
   "metadata": {
    "tags": []
   },
   "source": [
    "## Tuples\n",
    "### Enumerating\n",
    "\n",
    "Example of enumerating working with tuples in a list."
   ]
  },
  {
   "cell_type": "code",
   "execution_count": null,
   "id": "64baf67d",
   "metadata": {
    "tags": []
   },
   "outputs": [],
   "source": [
    "cookie_and_skill = [('Pure Vanilla', 'Healer'), \n",
    "                    ('White Lily', 'Bomber'), \n",
    "                    ('Dark Cacao', 'Charge')]\n",
    "for idx, item in enumerate(cookie_and_skill):\n",
    "    print(idx, item)"
   ]
  },
  {
   "cell_type": "code",
   "execution_count": null,
   "id": "449308b8-9221-44e4-8cbd-d3c51197f575",
   "metadata": {
    "tags": []
   },
   "outputs": [],
   "source": [
    "cookie_and_skill[1][1]"
   ]
  },
  {
   "cell_type": "markdown",
   "id": "b9e28ed0",
   "metadata": {
    "tags": []
   },
   "source": [
    "### Zip()\n",
    "\n",
    "``zip()`` is one way to create tuples. First we start with two separate lists, both of same length (same # of elements). Then we'll pair them up using ``zip()`` to create a list of tuples!"
   ]
  },
  {
   "cell_type": "code",
   "execution_count": null,
   "id": "f408d299",
   "metadata": {
    "tags": []
   },
   "outputs": [],
   "source": [
    "cookie_names = ['Pure Vanilla', 'White Lily', 'Dark Cacao']\n",
    "skills = ['Healer', 'Bomber', 'Charge']\n",
    "ancientCookies = list(zip(cookie_names, skills))"
   ]
  },
  {
   "cell_type": "code",
   "execution_count": null,
   "id": "af889ea3",
   "metadata": {
    "tags": []
   },
   "outputs": [],
   "source": [
    "print(ancientCookies)"
   ]
  },
  {
   "cell_type": "markdown",
   "id": "7c999115",
   "metadata": {
    "tags": []
   },
   "source": [
    "As you can see, now we have a list of tuples entitled ``ancientCookies``. Note the parenthesis used for tuple object representation."
   ]
  },
  {
   "cell_type": "markdown",
   "id": "8d9063cc",
   "metadata": {
    "tags": []
   },
   "source": [
    "## Strings\n",
    "\n",
    "f-strings:"
   ]
  },
  {
   "cell_type": "code",
   "execution_count": null,
   "id": "6fb8c36e",
   "metadata": {
    "tags": []
   },
   "outputs": [],
   "source": [
    "for c, s in ancientCookies:\n",
    "    print(f\"{c} is a {s} cookie.\")"
   ]
  },
  {
   "cell_type": "code",
   "execution_count": null,
   "id": "94498611",
   "metadata": {
    "tags": []
   },
   "outputs": [],
   "source": [
    "print(f\"Cookie names are {', '.join(cookie_names[0:2])}, and {cookie_names[-1]}.\")"
   ]
  },
  {
   "cell_type": "code",
   "execution_count": null,
   "id": "abda844f",
   "metadata": {
    "tags": []
   },
   "outputs": [],
   "source": [
    "print([name for name in cookie_names if name.startswith('W')])"
   ]
  },
  {
   "cell_type": "code",
   "execution_count": null,
   "id": "4bb5dc12",
   "metadata": {
    "tags": []
   },
   "outputs": [],
   "source": [
    "'lily' in 'White Lily'"
   ]
  },
  {
   "cell_type": "code",
   "execution_count": null,
   "id": "587e3213",
   "metadata": {
    "tags": []
   },
   "outputs": [],
   "source": [
    "'lily' in 'White Lily'.lower()"
   ]
  },
  {
   "cell_type": "markdown",
   "id": "b6cb1014",
   "metadata": {
    "tags": []
   },
   "source": [
    "w_name = [*name* for *name* in cookie_names if *name*.lower().startswith('W')]\n",
    "\n",
    "print(w_name)"
   ]
  },
  {
   "cell_type": "markdown",
   "id": "b9f26b51",
   "metadata": {
    "tags": []
   },
   "source": [
    "## Dictionaries"
   ]
  },
  {
   "cell_type": "code",
   "execution_count": null,
   "id": "2aa09d16",
   "metadata": {
    "tags": []
   },
   "outputs": [],
   "source": [
    "cookie_types = {}\n",
    "\n",
    "# name, type (can't use type as variable name because it's a keyword)\n",
    "for n, t in ancientCookies:\n",
    "    cookie_types[t] = n\n",
    "    \n",
    "print(cookie_types)"
   ]
  },
  {
   "cell_type": "code",
   "execution_count": null,
   "id": "a28e74ef",
   "metadata": {
    "tags": []
   },
   "outputs": [],
   "source": [
    "healerCookie = cookie_types['Healer']\n",
    "print(healerCookie)"
   ]
  },
  {
   "cell_type": "code",
   "execution_count": null,
   "id": "99d27b2a",
   "metadata": {
    "tags": []
   },
   "outputs": [],
   "source": [
    "cookie_types.get('Support', 'Not Found')"
   ]
  },
  {
   "cell_type": "markdown",
   "id": "94f51ee5",
   "metadata": {
    "tags": []
   },
   "source": [
    "### Adding and extending Dictionaries"
   ]
  },
  {
   "cell_type": "code",
   "execution_count": null,
   "id": "92ab99bf",
   "metadata": {
    "tags": []
   },
   "outputs": [],
   "source": [
    "print(cookie_types)"
   ]
  },
  {
   "cell_type": "code",
   "execution_count": null,
   "id": "8488b93e",
   "metadata": {
    "tags": []
   },
   "outputs": [],
   "source": [
    "test = {'Extra type': 'Fettucine'}\n",
    "cookie_types['New type'] = test\n",
    "print(cookie_types)"
   ]
  },
  {
   "cell_type": "code",
   "execution_count": null,
   "id": "724b774d-f16d-4e41-8225-3cea43cd903b",
   "metadata": {
    "tags": []
   },
   "outputs": [],
   "source": [
    "cookie_types['Test'] = 'test'\n",
    "print(cookie_types)"
   ]
  },
  {
   "cell_type": "markdown",
   "id": "af8b3bb6-eecc-4ac6-9fc0-e2559c8696ed",
   "metadata": {
    "tags": []
   },
   "source": [
    "### Updating a dictionary"
   ]
  },
  {
   "cell_type": "code",
   "execution_count": null,
   "id": "f750828e-3ab7-4c55-96a8-969088cffb0b",
   "metadata": {
    "tags": []
   },
   "outputs": [],
   "source": [
    "# creating a list of tuples\n",
    "galleries = [('Bread Gallery', '2872'), ('Art Gallery', '4850'), ('The Getty', '9249')]\n",
    "\n",
    "galleries_dict = {}\n",
    "for name, zip_code in galleries:\n",
    "    galleries_dict[name] = zip_code\n",
    "    \n",
    "print(galleries_dict)"
   ]
  },
  {
   "cell_type": "code",
   "execution_count": null,
   "id": "a5a2193b-02e6-4761-b04c-168df2b4f2a9",
   "metadata": {
    "tags": []
   },
   "outputs": [],
   "source": [
    "galleries_dict['Bread Gallery'] = ['Sourdough', 'Whole Wheat', 'Raisin']\n",
    "print(galleries_dict)"
   ]
  },
  {
   "cell_type": "code",
   "execution_count": null,
   "id": "0892e02a-3b79-43bb-ba55-36b93304fdbb",
   "metadata": {
    "tags": []
   },
   "outputs": [],
   "source": [
    "updatedArtGallery = {'Art Gallery': [{'Background': 'Gray', 'Medium': 'Watercolor'},\n",
    "                            {'Background': 'Yellow', 'Medium': 'Pastel'},\n",
    "                            {'Background': 'White', 'Medium': 'Acrylic'}]}\n",
    "galleries_dict.update(updatedArtGallery)\n",
    "print(galleries_dict)"
   ]
  },
  {
   "cell_type": "code",
   "execution_count": null,
   "id": "479a3423-4c58-4a32-934c-896379c229a2",
   "metadata": {
    "tags": []
   },
   "outputs": [],
   "source": [
    "galleries_dict.pop('Bread Gallery')"
   ]
  },
  {
   "cell_type": "code",
   "execution_count": null,
   "id": "c833c011-ccc4-44eb-af76-a8055299be33",
   "metadata": {
    "tags": []
   },
   "outputs": [],
   "source": [
    "print(galleries_dict)\n",
    "galleries_dict.update({'The Getty': [{'Background': 'Red', 'Medium': 'Oil Pastel'},\n",
    "                                    {'Background': 'Green', 'Medium': 'Watercolor'},\n",
    "                                    {'Background': 'Blue', 'Medium': 'Digital'}]})"
   ]
  },
  {
   "cell_type": "code",
   "execution_count": null,
   "id": "2c47ee5f-cba0-40ad-b6db-724e878a03b3",
   "metadata": {
    "tags": []
   },
   "outputs": [],
   "source": [
    "print(galleries_dict['Art Gallery'])"
   ]
  },
  {
   "cell_type": "code",
   "execution_count": null,
   "id": "e8d2fd7b-097e-42bc-8247-b5a992677905",
   "metadata": {
    "tags": []
   },
   "outputs": [],
   "source": [
    "print(galleries_dict['The Getty'])"
   ]
  },
  {
   "cell_type": "code",
   "execution_count": null,
   "id": "266eddb2-e7fe-4573-b997-8a20967f9ec0",
   "metadata": {
    "tags": []
   },
   "outputs": [],
   "source": [
    "for gallery in galleries_dict:\n",
    "                # where pair is the key/value pairs in \n",
    "    print(gallery, [art.get('Medium', 'None') for art in galleries_dict[gallery]])"
   ]
  },
  {
   "cell_type": "code",
   "execution_count": null,
   "id": "50c39282-df8c-465c-8ebe-599fc2770df4",
   "metadata": {
    "tags": []
   },
   "outputs": [],
   "source": [
    "for gallery in galleries_dict:\n",
    "    print(galleries_dict[gallery])"
   ]
  },
  {
   "cell_type": "markdown",
   "id": "e3fa07f4-131d-4219-be8a-5ebcb17f0c71",
   "metadata": {
    "tags": []
   },
   "source": [
    "Below only the keys are accessed, while above the values are accessed."
   ]
  },
  {
   "cell_type": "code",
   "execution_count": null,
   "id": "78d1ad8a-d075-40dc-beae-f9016acfbd29",
   "metadata": {
    "tags": []
   },
   "outputs": [],
   "source": [
    "for gallery in galleries_dict:\n",
    "    print(gallery)"
   ]
  },
  {
   "cell_type": "markdown",
   "id": "1ce35280-01f9-42c1-9e0b-0acfa441ef26",
   "metadata": {
    "tags": []
   },
   "source": [
    "### Removing things from dictionary"
   ]
  },
  {
   "cell_type": "code",
   "execution_count": null,
   "id": "305b1b10-d62d-4407-b63d-0a87d14656fc",
   "metadata": {
    "tags": []
   },
   "outputs": [],
   "source": [
    "galleries = galleries_dict.pop('The Getty')\n",
    "print(galleries)"
   ]
  },
  {
   "cell_type": "markdown",
   "id": "4f9ed627-584e-4b4b-99e0-9be1995600ac",
   "metadata": {
    "tags": []
   },
   "source": [
    "Now there's no more 'The Getty' key/value pair on the galleries_dict dictionary (and now there's only 1 key/value pair)."
   ]
  },
  {
   "cell_type": "markdown",
   "id": "9cb7ff4a-b2e0-41b2-a0b5-259841bc163c",
   "metadata": {
    "tags": []
   },
   "source": [
    "Another way to delete/remove something from a dictionary (unsafe) is ``del``: ``del squirrels_by_park['Union Square Park']`` deletes the key/value pair whose key is 'Union Square Park'"
   ]
  },
  {
   "cell_type": "markdown",
   "id": "db1ca170-3b41-4f90-b613-fa38c21cf81f",
   "metadata": {},
   "source": [
    "## Pythonically using dictionaries"
   ]
  },
  {
   "cell_type": "code",
   "execution_count": null,
   "id": "3f3407fe-b6fb-440f-87d9-660b56778cd9",
   "metadata": {},
   "outputs": [],
   "source": [
    "for background, medium in galleries_dict.items():\n",
    "    print(background)\n",
    "    print(medium)"
   ]
  },
  {
   "cell_type": "code",
   "execution_count": null,
   "id": "188f932a-6e77-4b63-9f4c-ad67fd62f4e8",
   "metadata": {},
   "outputs": [],
   "source": [
    "'Art Gallery' in galleries_dict"
   ]
  },
  {
   "cell_type": "code",
   "execution_count": null,
   "id": "6ec53780-2a6d-4694-83f8-a7cbd75198cb",
   "metadata": {},
   "outputs": [],
   "source": [
    "for background, medium in galleries_dict['Art Gallery'][0].items():\n",
    "    print(background, medium)"
   ]
  },
  {
   "cell_type": "code",
   "execution_count": null,
   "id": "49a6c5b7-d521-49f2-9a71-5106a3031b99",
   "metadata": {},
   "outputs": [],
   "source": [
    "galleries_dict['Art Gallery'][1]['Medium']"
   ]
  },
  {
   "cell_type": "code",
   "execution_count": null,
   "id": "1414cc9e-5226-4e26-99a9-baac9f88358b",
   "metadata": {},
   "outputs": [],
   "source": [
    "print([gallery for gallery in galleries_dict['Art Gallery'] if 'Gray' in gallery['Background']])"
   ]
  },
  {
   "cell_type": "markdown",
   "id": "35930f4b-9e45-41c8-b19c-d59ace77f392",
   "metadata": {},
   "source": [
    "## Sets\n",
    "\n",
    "- created via lists\n",
    "- stores unique items"
   ]
  },
  {
   "cell_type": "code",
   "execution_count": 9,
   "id": "6c18504f-f83f-4b05-a36e-510de1528d77",
   "metadata": {},
   "outputs": [
    {
     "name": "stdout",
     "output_type": "stream",
     "text": [
      "{'meat', 'water', 'yogurt', 'fruits'}\n"
     ]
    }
   ],
   "source": [
    "whatIEat = set(['fruits', 'yogurt', 'meat', 'water', 'water', 'fruits'])\n",
    "print(whatIEat)"
   ]
  },
  {
   "cell_type": "markdown",
   "id": "7795e73b-9e26-4ba4-818a-662990d3b618",
   "metadata": {},
   "source": [
    "``.add()`` adds **a** new element to the set (only if it's unique, otherwise just skips it)"
   ]
  },
  {
   "cell_type": "code",
   "execution_count": 10,
   "id": "b238a723-4484-4cdd-b7a1-a3f3b89b31fc",
   "metadata": {},
   "outputs": [
    {
     "name": "stdout",
     "output_type": "stream",
     "text": [
      "{'fruits', 'yogurt', 'meat', 'water', 'snacks'}\n"
     ]
    }
   ],
   "source": [
    "whatIEat.add('snacks')\n",
    "print(whatIEat)"
   ]
  },
  {
   "cell_type": "markdown",
   "id": "1d370656-72c9-4712-be0e-41af6f01d3e7",
   "metadata": {},
   "source": [
    "``.update()`` adds multiple things to a set, it merges sets/lists"
   ]
  },
  {
   "cell_type": "code",
   "execution_count": 11,
   "id": "23048bd8-18f7-464c-84ad-94aae9859360",
   "metadata": {},
   "outputs": [
    {
     "name": "stdout",
     "output_type": "stream",
     "text": [
      "{'fruits', 'gummy bears', 'yogurt', 'meat', 'water', 'snacks', 'grapes'}\n"
     ]
    }
   ],
   "source": [
    "snacks_I_ate = ['gummy bears', 'grapes']\n",
    "whatIEat.update(snacks_I_ate)\n",
    "print(whatIEat)"
   ]
  },
  {
   "cell_type": "markdown",
   "id": "ebd79c6d-35dd-45ab-9d43-811798956765",
   "metadata": {},
   "source": [
    "#### Removing values from a set\n",
    "\n",
    "Use ``.discard()``, which does not throw an error if the value is not found. Can also use ``.pop()``, the same way we use it for lists."
   ]
  },
  {
   "cell_type": "code",
   "execution_count": 12,
   "id": "3905126e-7ef4-4b66-a0d9-2d442b1485e2",
   "metadata": {},
   "outputs": [
    {
     "name": "stdout",
     "output_type": "stream",
     "text": [
      "{'fruits', 'gummy bears', 'yogurt', 'water', 'snacks', 'grapes'}\n",
      "{'gummy bears', 'yogurt', 'water', 'snacks', 'grapes'}\n"
     ]
    }
   ],
   "source": [
    "whatIEat.discard('meat')\n",
    "print(whatIEat)\n",
    "whatIEat.pop()\n",
    "print(whatIEat)"
   ]
  },
  {
   "cell_type": "markdown",
   "id": "a94dcb47-0865-4db4-af9b-411f56e906d7",
   "metadata": {},
   "source": [
    "Note how when set uses ``.pop()``, the first element is removed.\n",
    "\n",
    "\n",
    "### Unique\n",
    "``.union()``: gives all unique values in both sets\n",
    "\n",
    "``.intersection()``: returns overlapping elements in both sets"
   ]
  },
  {
   "cell_type": "code",
   "execution_count": 13,
   "id": "5689c79b-8801-48dd-8514-86b54d05f67c",
   "metadata": {},
   "outputs": [
    {
     "data": {
      "text/plain": [
       "{'blueberries',\n",
       " 'grapes',\n",
       " 'gummy bears',\n",
       " 'orange juice',\n",
       " 'snacks',\n",
       " 'water',\n",
       " 'yogurt'}"
      ]
     },
     "execution_count": 13,
     "metadata": {},
     "output_type": "execute_result"
    }
   ],
   "source": [
    "snacks_eaten = set(['blueberries', 'water', 'orange juice'])\n",
    "snacks_eaten.union(whatIEat)"
   ]
  },
  {
   "cell_type": "code",
   "execution_count": 14,
   "id": "5b925674-ffd4-4ce8-9741-68ab99f16e09",
   "metadata": {},
   "outputs": [
    {
     "data": {
      "text/plain": [
       "{'water'}"
      ]
     },
     "execution_count": 14,
     "metadata": {},
     "output_type": "execute_result"
    }
   ],
   "source": [
    "snacks_eaten.intersection(whatIEat)"
   ]
  },
  {
   "cell_type": "markdown",
   "id": "223352e7-e611-41d1-9b4d-4c954c1a4e03",
   "metadata": {},
   "source": [
    "### Differences\n",
    "\n",
    "``.difference()``: data in set method is used on, that is NOT in the argument set"
   ]
  },
  {
   "cell_type": "code",
   "execution_count": 15,
   "id": "e7a79639-34f1-43e1-957c-f0758cd0e05b",
   "metadata": {},
   "outputs": [
    {
     "data": {
      "text/plain": [
       "{'blueberries', 'orange juice'}"
      ]
     },
     "execution_count": 15,
     "metadata": {},
     "output_type": "execute_result"
    }
   ],
   "source": [
    "snacks_eaten.difference(whatIEat)"
   ]
  },
  {
   "cell_type": "markdown",
   "id": "8a54f642-e41f-4744-abb3-3432c09759ba",
   "metadata": {},
   "source": [
    "So here snacks_eaten has elements blueberries and orange juice, which are not in the set whatIEat. We can clearly see this difference when looking at the printouts of the 2 sets."
   ]
  },
  {
   "cell_type": "code",
   "execution_count": 17,
   "id": "9ed54830-5e7c-4067-ad5d-76fa6597d0c4",
   "metadata": {},
   "outputs": [
    {
     "name": "stdout",
     "output_type": "stream",
     "text": [
      "{'gummy bears', 'yogurt', 'water', 'snacks', 'grapes'}\n",
      "{'blueberries', 'water', 'orange juice'}\n"
     ]
    }
   ],
   "source": [
    "print(whatIEat)\n",
    "print(snacks_eaten)"
   ]
  },
  {
   "cell_type": "markdown",
   "id": "835459b7-b0c6-4f1f-9d44-8c6b21555b62",
   "metadata": {},
   "source": [
    "## Week 3\n",
    "\n",
    "### User defined functions (Python Data Science Toolbox, pt. 1)\n",
    "\n",
    "Docstrings: tell what the function does, use \"\"\""
   ]
  },
  {
   "cell_type": "code",
   "execution_count": 1,
   "id": "2124888f-1a27-49ac-a4e3-eb8a34193c2d",
   "metadata": {},
   "outputs": [],
   "source": [
    "def func():\n",
    "    \"\"\"This is an example Docstring\"\"\"\n",
    "    return 0"
   ]
  }
 ],
 "metadata": {
  "kernelspec": {
   "display_name": "Python 3",
   "language": "python",
   "name": "python3"
  },
  "language_info": {
   "codemirror_mode": {
    "name": "ipython",
    "version": 3
   },
   "file_extension": ".py",
   "mimetype": "text/x-python",
   "name": "python",
   "nbconvert_exporter": "python",
   "pygments_lexer": "ipython3",
   "version": "3.8.8"
  }
 },
 "nbformat": 4,
 "nbformat_minor": 5
}
