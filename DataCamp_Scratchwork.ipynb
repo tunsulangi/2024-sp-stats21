{
 "cells": [
  {
   "cell_type": "markdown",
   "id": "bb81573c",
   "metadata": {},
   "source": [
    "## Tuples"
   ]
  },
  {
   "cell_type": "markdown",
   "id": "b03bf2cf",
   "metadata": {},
   "source": [
    "### Enumerating"
   ]
  },
  {
   "cell_type": "markdown",
   "id": "ea130276",
   "metadata": {},
   "source": [
    "Example of enumerating working with tuples in a list."
   ]
  },
  {
   "cell_type": "code",
   "execution_count": 2,
   "id": "64baf67d",
   "metadata": {},
   "outputs": [
    {
     "name": "stdout",
     "output_type": "stream",
     "text": [
      "0 ('Pure Vanilla', 'Healer')\n",
      "1 ('White Lily', 'Bomber')\n",
      "2 ('Dark Cacao', 'Charge')\n"
     ]
    }
   ],
   "source": [
    "cookie_and_skill = [('Pure Vanilla', 'Healer'), \n",
    "                    ('White Lily', 'Bomber'), \n",
    "                    ('Dark Cacao', 'Charge')]\n",
    "for idx, item in enumerate(cookie_and_skill):\n",
    "    print(idx, item)"
   ]
  },
  {
   "cell_type": "markdown",
   "id": "b9e28ed0",
   "metadata": {},
   "source": [
    "### Zip()"
   ]
  },
  {
   "cell_type": "markdown",
   "id": "62afb324",
   "metadata": {},
   "source": [
    "``zip()`` is one way to create tuples. First we start with two separate lists, both of same length (same # of elements). Then we'll pair them up using ``zip()`` to create a list of tuples!"
   ]
  },
  {
   "cell_type": "code",
   "execution_count": 3,
   "id": "f408d299",
   "metadata": {},
   "outputs": [],
   "source": [
    "cookie_name = ['Pure Vanilla', 'White Lily', 'Dark Cacao']\n",
    "skill = ['Healer', 'Bomber', 'Charge']\n",
    "ancientCookies = list(zip(cookie_name, skill))"
   ]
  },
  {
   "cell_type": "code",
   "execution_count": 4,
   "id": "af889ea3",
   "metadata": {},
   "outputs": [
    {
     "name": "stdout",
     "output_type": "stream",
     "text": [
      "[('Pure Vanilla', 'Healer'), ('White Lily', 'Bomber'), ('Dark Cacao', 'Charge')]\n"
     ]
    }
   ],
   "source": [
    "print(ancientCookies)"
   ]
  },
  {
   "cell_type": "markdown",
   "id": "7c999115",
   "metadata": {},
   "source": [
    "As you can see, now we have a list of tuples entitled ``ancientCookies``. Note the parenthesis used for tuple object representation."
   ]
  }
 ],
 "metadata": {
  "kernelspec": {
   "display_name": "Python 3",
   "language": "python",
   "name": "python3"
  },
  "language_info": {
   "codemirror_mode": {
    "name": "ipython",
    "version": 3
   },
   "file_extension": ".py",
   "mimetype": "text/x-python",
   "name": "python",
   "nbconvert_exporter": "python",
   "pygments_lexer": "ipython3",
   "version": "3.8.8"
  }
 },
 "nbformat": 4,
 "nbformat_minor": 5
}
