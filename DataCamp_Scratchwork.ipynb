{
 "cells": [
  {
   "cell_type": "markdown",
   "id": "bb81573c",
   "metadata": {},
   "source": [
    "## Tuples\n",
    "### Enumerating\n",
    "\n",
    "Example of enumerating working with tuples in a list."
   ]
  },
  {
   "cell_type": "code",
   "execution_count": 3,
   "id": "64baf67d",
   "metadata": {},
   "outputs": [
    {
     "name": "stdout",
     "output_type": "stream",
     "text": [
      "0 ('Pure Vanilla', 'Healer')\n",
      "1 ('White Lily', 'Bomber')\n",
      "2 ('Dark Cacao', 'Charge')\n"
     ]
    }
   ],
   "source": [
    "cookie_and_skill = [('Pure Vanilla', 'Healer'), \n",
    "                    ('White Lily', 'Bomber'), \n",
    "                    ('Dark Cacao', 'Charge')]\n",
    "for idx, item in enumerate(cookie_and_skill):\n",
    "    print(idx, item)"
   ]
  },
  {
   "cell_type": "code",
   "execution_count": 38,
   "id": "449308b8-9221-44e4-8cbd-d3c51197f575",
   "metadata": {},
   "outputs": [
    {
     "data": {
      "text/plain": [
       "'Bomber'"
      ]
     },
     "execution_count": 38,
     "metadata": {},
     "output_type": "execute_result"
    }
   ],
   "source": [
    "cookie_and_skill[1][1]"
   ]
  },
  {
   "cell_type": "markdown",
   "id": "b9e28ed0",
   "metadata": {},
   "source": [
    "### Zip()\n",
    "\n",
    "``zip()`` is one way to create tuples. First we start with two separate lists, both of same length (same # of elements). Then we'll pair them up using ``zip()`` to create a list of tuples!"
   ]
  },
  {
   "cell_type": "code",
   "execution_count": 25,
   "id": "f408d299",
   "metadata": {},
   "outputs": [],
   "source": [
    "cookie_names = ['Pure Vanilla', 'White Lily', 'Dark Cacao']\n",
    "skills = ['Healer', 'Bomber', 'Charge']\n",
    "ancientCookies = list(zip(cookie_names, skills))"
   ]
  },
  {
   "cell_type": "code",
   "execution_count": 3,
   "id": "af889ea3",
   "metadata": {},
   "outputs": [
    {
     "name": "stdout",
     "output_type": "stream",
     "text": [
      "[('Pure Vanilla', 'Healer'), ('White Lily', 'Bomber'), ('Dark Cacao', 'Charge')]\n"
     ]
    }
   ],
   "source": [
    "print(ancientCookies)"
   ]
  },
  {
   "cell_type": "markdown",
   "id": "7c999115",
   "metadata": {},
   "source": [
    "As you can see, now we have a list of tuples entitled ``ancientCookies``. Note the parenthesis used for tuple object representation."
   ]
  },
  {
   "cell_type": "markdown",
   "id": "8d9063cc",
   "metadata": {},
   "source": [
    "## Strings\n",
    "\n",
    "f-strings:"
   ]
  },
  {
   "cell_type": "code",
   "execution_count": 7,
   "id": "6fb8c36e",
   "metadata": {},
   "outputs": [
    {
     "name": "stdout",
     "output_type": "stream",
     "text": [
      "Pure Vanilla is a Healer cookie.\n",
      "White Lily is a Bomber cookie.\n",
      "Dark Cacao is a Charge cookie.\n"
     ]
    }
   ],
   "source": [
    "for c, s in ancientCookies:\n",
    "    print(f\"{c} is a {s} cookie.\")"
   ]
  },
  {
   "cell_type": "code",
   "execution_count": 8,
   "id": "94498611",
   "metadata": {},
   "outputs": [
    {
     "name": "stdout",
     "output_type": "stream",
     "text": [
      "Cookie names are Pure Vanilla, White Lily, and Dark Cacao.\n"
     ]
    }
   ],
   "source": [
    "print(f\"Cookie names are {', '.join(cookie_names[0:2])}, and {cookie_names[-1]}.\")"
   ]
  },
  {
   "cell_type": "code",
   "execution_count": 10,
   "id": "abda844f",
   "metadata": {},
   "outputs": [
    {
     "name": "stdout",
     "output_type": "stream",
     "text": [
      "['White Lily']\n"
     ]
    }
   ],
   "source": [
    "print([name for name in cookie_names if name.startswith('W')])"
   ]
  },
  {
   "cell_type": "code",
   "execution_count": 11,
   "id": "4bb5dc12",
   "metadata": {},
   "outputs": [
    {
     "data": {
      "text/plain": [
       "False"
      ]
     },
     "execution_count": 11,
     "metadata": {},
     "output_type": "execute_result"
    }
   ],
   "source": [
    "'lily' in 'White Lily'"
   ]
  },
  {
   "cell_type": "code",
   "execution_count": 12,
   "id": "587e3213",
   "metadata": {},
   "outputs": [
    {
     "data": {
      "text/plain": [
       "True"
      ]
     },
     "execution_count": 12,
     "metadata": {},
     "output_type": "execute_result"
    }
   ],
   "source": [
    "'lily' in 'White Lily'.lower()"
   ]
  },
  {
   "cell_type": "markdown",
   "id": "b6cb1014",
   "metadata": {},
   "source": [
    "w_name = [*name* for *name* in cookie_names if *name*.lower().startswith('W')]\n",
    "\n",
    "print(w_name)"
   ]
  },
  {
   "cell_type": "markdown",
   "id": "b9f26b51",
   "metadata": {},
   "source": [
    "## Dictionaries"
   ]
  },
  {
   "cell_type": "code",
   "execution_count": 26,
   "id": "2aa09d16",
   "metadata": {},
   "outputs": [
    {
     "name": "stdout",
     "output_type": "stream",
     "text": [
      "{'Healer': 'Pure Vanilla', 'Bomber': 'White Lily', 'Charge': 'Dark Cacao'}\n"
     ]
    }
   ],
   "source": [
    "cookie_types = {}\n",
    "\n",
    "# name, type (can't use type as variable name because it's a keyword)\n",
    "for n, t in ancientCookies:\n",
    "    cookie_types[t] = n\n",
    "    \n",
    "print(cookie_types)"
   ]
  },
  {
   "cell_type": "code",
   "execution_count": 9,
   "id": "a28e74ef",
   "metadata": {},
   "outputs": [
    {
     "name": "stdout",
     "output_type": "stream",
     "text": [
      "Pure Vanilla\n"
     ]
    }
   ],
   "source": [
    "healerCookie = cookie_types['Healer']\n",
    "print(healerCookie)"
   ]
  },
  {
   "cell_type": "code",
   "execution_count": 10,
   "id": "99d27b2a",
   "metadata": {},
   "outputs": [
    {
     "data": {
      "text/plain": [
       "'Not Found'"
      ]
     },
     "execution_count": 10,
     "metadata": {},
     "output_type": "execute_result"
    }
   ],
   "source": [
    "cookie_types.get('Support', 'Not Found')"
   ]
  },
  {
   "cell_type": "markdown",
   "id": "94f51ee5",
   "metadata": {},
   "source": [
    "### Adding and extending Dictionaries"
   ]
  },
  {
   "cell_type": "code",
   "execution_count": 32,
   "id": "92ab99bf",
   "metadata": {},
   "outputs": [
    {
     "name": "stdout",
     "output_type": "stream",
     "text": [
      "{'Healer': 'Pure Vanilla', 'Bomber': 'White Lily', 'Charge': 'Dark Cacao'}\n"
     ]
    }
   ],
   "source": [
    "print(cookie_types)"
   ]
  },
  {
   "cell_type": "code",
   "execution_count": 11,
   "id": "8488b93e",
   "metadata": {},
   "outputs": [
    {
     "name": "stdout",
     "output_type": "stream",
     "text": [
      "{'Healer': 'Pure Vanilla', 'Bomber': 'White Lily', 'Charge': 'Dark Cacao', 'New type': {'Extra type': 'Fettucine'}}\n"
     ]
    }
   ],
   "source": [
    "test = {'Extra type': 'Fettucine'}\n",
    "cookie_types['New type'] = test\n",
    "print(cookie_types)"
   ]
  },
  {
   "cell_type": "code",
   "execution_count": 28,
   "id": "724b774d-f16d-4e41-8225-3cea43cd903b",
   "metadata": {},
   "outputs": [
    {
     "name": "stdout",
     "output_type": "stream",
     "text": [
      "{'Healer': 'Pure Vanilla', 'Bomber': 'White Lily', 'Charge': 'Dark Cacao', 'Test': 'test'}\n"
     ]
    }
   ],
   "source": [
    "cookie_types['Test'] = 'test'\n",
    "print(cookie_types)"
   ]
  },
  {
   "cell_type": "markdown",
   "id": "af8b3bb6-eecc-4ac6-9fc0-e2559c8696ed",
   "metadata": {},
   "source": [
    "### Updating a dictionary"
   ]
  },
  {
   "cell_type": "code",
   "execution_count": 1,
   "id": "f750828e-3ab7-4c55-96a8-969088cffb0b",
   "metadata": {},
   "outputs": [
    {
     "name": "stdout",
     "output_type": "stream",
     "text": [
      "{'Bread Gallery': '2872', 'Art Gallery': '4850', 'The Getty': '9249'}\n"
     ]
    }
   ],
   "source": [
    "# creating a list of tuples\n",
    "galleries = [('Bread Gallery', '2872'), ('Art Gallery', '4850'), ('The Getty', '9249')]\n",
    "\n",
    "galleries_dict = {}\n",
    "for name, zip_code in galleries:\n",
    "    galleries_dict[name] = zip_code\n",
    "    \n",
    "print(galleries_dict)"
   ]
  },
  {
   "cell_type": "code",
   "execution_count": 2,
   "id": "a5a2193b-02e6-4761-b04c-168df2b4f2a9",
   "metadata": {},
   "outputs": [
    {
     "name": "stdout",
     "output_type": "stream",
     "text": [
      "{'Bread Gallery': ['Sourdough', 'Whole Wheat', 'Raisin'], 'Art Gallery': '4850', 'The Getty': '9249'}\n"
     ]
    }
   ],
   "source": [
    "galleries_dict['Bread Gallery'] = ['Sourdough', 'Whole Wheat', 'Raisin']\n",
    "print(galleries_dict)"
   ]
  },
  {
   "cell_type": "code",
   "execution_count": 3,
   "id": "0892e02a-3b79-43bb-ba55-36b93304fdbb",
   "metadata": {},
   "outputs": [
    {
     "name": "stdout",
     "output_type": "stream",
     "text": [
      "{'Bread Gallery': ['Sourdough', 'Whole Wheat', 'Raisin'], 'Art Gallery': [{'Background': 'Gray', 'Medium': 'Watercolor'}, {'Background': 'Yellow', 'Medium': 'Pastel'}, {'Background': 'White', 'Medium': 'Acrylic'}], 'The Getty': '9249'}\n"
     ]
    }
   ],
   "source": [
    "updatedArtGallery = {'Art Gallery': [{'Background': 'Gray', 'Medium': 'Watercolor'},\n",
    "                            {'Background': 'Yellow', 'Medium': 'Pastel'},\n",
    "                            {'Background': 'White', 'Medium': 'Acrylic'}]}\n",
    "galleries_dict.update(updatedArtGallery)\n",
    "print(galleries_dict)"
   ]
  },
  {
   "cell_type": "code",
   "execution_count": 4,
   "id": "479a3423-4c58-4a32-934c-896379c229a2",
   "metadata": {},
   "outputs": [
    {
     "data": {
      "text/plain": [
       "['Sourdough', 'Whole Wheat', 'Raisin']"
      ]
     },
     "execution_count": 4,
     "metadata": {},
     "output_type": "execute_result"
    }
   ],
   "source": [
    "galleries_dict.pop('Bread Gallery')"
   ]
  },
  {
   "cell_type": "code",
   "execution_count": 5,
   "id": "c833c011-ccc4-44eb-af76-a8055299be33",
   "metadata": {},
   "outputs": [
    {
     "name": "stdout",
     "output_type": "stream",
     "text": [
      "{'Art Gallery': [{'Background': 'Gray', 'Medium': 'Watercolor'}, {'Background': 'Yellow', 'Medium': 'Pastel'}, {'Background': 'White', 'Medium': 'Acrylic'}], 'The Getty': '9249'}\n"
     ]
    }
   ],
   "source": [
    "print(galleries_dict)\n",
    "galleries_dict.update({'The Getty': [{'Background': 'Red', 'Medium': 'Oil Pastel'},\n",
    "                                    {'Background': 'Green', 'Medium': 'Watercolor'},\n",
    "                                    {'Background': 'Blue', 'Medium': 'Digital'}]})"
   ]
  },
  {
   "cell_type": "code",
   "execution_count": 77,
   "id": "2c47ee5f-cba0-40ad-b6db-724e878a03b3",
   "metadata": {},
   "outputs": [
    {
     "name": "stdout",
     "output_type": "stream",
     "text": [
      "[{'Background': 'Gray', 'Medium': 'Watercolor'}, {'Background': 'Yellow', 'Medium': 'Pastel'}, {'Background': 'White', 'Medium': 'Acrylic'}]\n"
     ]
    }
   ],
   "source": [
    "print(galleries_dict['Art Gallery'])"
   ]
  },
  {
   "cell_type": "code",
   "execution_count": 78,
   "id": "e8d2fd7b-097e-42bc-8247-b5a992677905",
   "metadata": {},
   "outputs": [
    {
     "name": "stdout",
     "output_type": "stream",
     "text": [
      "[{'Background': 'Red', 'Medium': 'Oil Pastel'}, {'Background': 'Green', 'Medium': 'Watercolor'}, {'Background': 'Blue', 'Medium': 'Digital'}]\n"
     ]
    }
   ],
   "source": [
    "print(galleries_dict['The Getty'])"
   ]
  },
  {
   "cell_type": "code",
   "execution_count": 6,
   "id": "266eddb2-e7fe-4573-b997-8a20967f9ec0",
   "metadata": {},
   "outputs": [
    {
     "name": "stdout",
     "output_type": "stream",
     "text": [
      "Art Gallery ['Watercolor', 'Pastel', 'Acrylic']\n",
      "The Getty ['Oil Pastel', 'Watercolor', 'Digital']\n"
     ]
    }
   ],
   "source": [
    "for gallery in galleries_dict:\n",
    "                # where pair is the key/value pairs in \n",
    "    print(gallery, [art.get('Medium', 'None') for art in galleries_dict[gallery]])"
   ]
  },
  {
   "cell_type": "code",
   "execution_count": 7,
   "id": "50c39282-df8c-465c-8ebe-599fc2770df4",
   "metadata": {},
   "outputs": [
    {
     "name": "stdout",
     "output_type": "stream",
     "text": [
      "[{'Background': 'Gray', 'Medium': 'Watercolor'}, {'Background': 'Yellow', 'Medium': 'Pastel'}, {'Background': 'White', 'Medium': 'Acrylic'}]\n",
      "[{'Background': 'Red', 'Medium': 'Oil Pastel'}, {'Background': 'Green', 'Medium': 'Watercolor'}, {'Background': 'Blue', 'Medium': 'Digital'}]\n"
     ]
    }
   ],
   "source": [
    "for gallery in galleries_dict:\n",
    "    print(galleries_dict[gallery])"
   ]
  },
  {
   "cell_type": "markdown",
   "id": "e3fa07f4-131d-4219-be8a-5ebcb17f0c71",
   "metadata": {},
   "source": [
    "Below only the keys are accessed, while above the values are accessed."
   ]
  },
  {
   "cell_type": "code",
   "execution_count": 8,
   "id": "78d1ad8a-d075-40dc-beae-f9016acfbd29",
   "metadata": {},
   "outputs": [
    {
     "name": "stdout",
     "output_type": "stream",
     "text": [
      "Art Gallery\n",
      "The Getty\n"
     ]
    }
   ],
   "source": [
    "for gallery in galleries_dict:\n",
    "    print(gallery)"
   ]
  },
  {
   "cell_type": "markdown",
   "id": "1ce35280-01f9-42c1-9e0b-0acfa441ef26",
   "metadata": {},
   "source": [
    "### Removing things from dictionary"
   ]
  },
  {
   "cell_type": "code",
   "execution_count": 82,
   "id": "305b1b10-d62d-4407-b63d-0a87d14656fc",
   "metadata": {},
   "outputs": [
    {
     "name": "stdout",
     "output_type": "stream",
     "text": [
      "[{'Background': 'Red', 'Medium': 'Oil Pastel'}, {'Background': 'Green', 'Medium': 'Watercolor'}, {'Background': 'Blue', 'Medium': 'Digital'}]\n"
     ]
    }
   ],
   "source": [
    "galleries = galleries_dict.pop('The Getty')\n",
    "print(galleries)"
   ]
  },
  {
   "cell_type": "markdown",
   "id": "4f9ed627-584e-4b4b-99e0-9be1995600ac",
   "metadata": {},
   "source": [
    "Now there's no more 'The Getty' key/value pair on the galleries_dict dictionary (and now there's only 1 key/value pair)."
   ]
  },
  {
   "cell_type": "markdown",
   "id": "9cb7ff4a-b2e0-41b2-a0b5-259841bc163c",
   "metadata": {},
   "source": [
    "Another way to delete/remove something from a dictionary (unsafe) is ``del``: ``del squirrels_by_park['Union Square Park']`` deletes the key/value pair whose key is 'Union Square Park'"
   ]
  },
  {
   "cell_type": "markdown",
   "id": "db1ca170-3b41-4f90-b613-fa38c21cf81f",
   "metadata": {},
   "source": [
    "## Pythonically using dictionaries"
   ]
  },
  {
   "cell_type": "code",
   "execution_count": 9,
   "id": "3f3407fe-b6fb-440f-87d9-660b56778cd9",
   "metadata": {},
   "outputs": [
    {
     "name": "stdout",
     "output_type": "stream",
     "text": [
      "Art Gallery\n",
      "[{'Background': 'Gray', 'Medium': 'Watercolor'}, {'Background': 'Yellow', 'Medium': 'Pastel'}, {'Background': 'White', 'Medium': 'Acrylic'}]\n",
      "The Getty\n",
      "[{'Background': 'Red', 'Medium': 'Oil Pastel'}, {'Background': 'Green', 'Medium': 'Watercolor'}, {'Background': 'Blue', 'Medium': 'Digital'}]\n"
     ]
    }
   ],
   "source": [
    "for background, medium in galleries_dict.items():\n",
    "    print(background)\n",
    "    print(medium)"
   ]
  },
  {
   "cell_type": "code",
   "execution_count": 10,
   "id": "188f932a-6e77-4b63-9f4c-ad67fd62f4e8",
   "metadata": {},
   "outputs": [
    {
     "data": {
      "text/plain": [
       "True"
      ]
     },
     "execution_count": 10,
     "metadata": {},
     "output_type": "execute_result"
    }
   ],
   "source": [
    "'Art Gallery' in galleries_dict"
   ]
  },
  {
   "cell_type": "code",
   "execution_count": 11,
   "id": "6ec53780-2a6d-4694-83f8-a7cbd75198cb",
   "metadata": {},
   "outputs": [
    {
     "name": "stdout",
     "output_type": "stream",
     "text": [
      "Background Gray\n",
      "Medium Watercolor\n"
     ]
    }
   ],
   "source": [
    "for background, medium in galleries_dict['Art Gallery'][0].items():\n",
    "    print(background, medium)"
   ]
  },
  {
   "cell_type": "code",
   "execution_count": 15,
   "id": "49a6c5b7-d521-49f2-9a71-5106a3031b99",
   "metadata": {},
   "outputs": [
    {
     "data": {
      "text/plain": [
       "'Pastel'"
      ]
     },
     "execution_count": 15,
     "metadata": {},
     "output_type": "execute_result"
    }
   ],
   "source": [
    "galleries_dict['Art Gallery'][1]['Medium']"
   ]
  },
  {
   "cell_type": "code",
   "execution_count": 17,
   "id": "1414cc9e-5226-4e26-99a9-baac9f88358b",
   "metadata": {},
   "outputs": [
    {
     "name": "stdout",
     "output_type": "stream",
     "text": [
      "[{'Background': 'Gray', 'Medium': 'Watercolor'}]\n"
     ]
    }
   ],
   "source": [
    "print([gallery for gallery in galleries_dict['Art Gallery'] if 'Gray' in gallery['Background']])"
   ]
  }
 ],
 "metadata": {
  "kernelspec": {
   "display_name": "Python 3",
   "language": "python",
   "name": "python3"
  },
  "language_info": {
   "codemirror_mode": {
    "name": "ipython",
    "version": 3
   },
   "file_extension": ".py",
   "mimetype": "text/x-python",
   "name": "python",
   "nbconvert_exporter": "python",
   "pygments_lexer": "ipython3",
   "version": "3.8.8"
  }
 },
 "nbformat": 4,
 "nbformat_minor": 5
}
