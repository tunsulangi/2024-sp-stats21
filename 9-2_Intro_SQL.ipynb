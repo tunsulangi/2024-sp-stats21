{
 "cells": [
  {
   "cell_type": "markdown",
   "metadata": {
    "slideshow": {
     "slide_type": "slide"
    }
   },
   "source": [
    "# Lecture 9-2\n",
    "\n",
    "# Intro to SQL\n",
    "\n",
    "## Week 9 Friday\n",
    "\n",
    "## Miles Chen, PhD"
   ]
  },
  {
   "cell_type": "markdown",
   "metadata": {
    "slideshow": {
     "slide_type": "slide"
    },
    "tags": []
   },
   "source": [
    "# Do not try to set up your own SQL Server\n",
    "\n",
    "There is a big difference between setting up a SQL server and learning how to write a few queries.\n",
    "\n",
    "We will learn how to **write a few queries**.\n",
    "\n",
    "We will not learn how to set up a server and design a database. Most likely, if you go into the workforce and they list SQL as a requirement, they need someone who can write queries. The person who sets up, designs, and maintains the server will be a database administrator."
   ]
  },
  {
   "cell_type": "markdown",
   "metadata": {
    "slideshow": {
     "slide_type": "slide"
    },
    "tags": []
   },
   "source": [
    "# Learning more\n",
    "\n",
    "Recommended exercises: <https://www.w3resource.com/sql-exercises/>\n",
    "\n",
    "Another place to just practice SQL queries: <http://sqlfiddle.com>"
   ]
  },
  {
   "cell_type": "markdown",
   "metadata": {
    "slideshow": {
     "slide_type": "slide"
    },
    "tags": []
   },
   "source": [
    "# sqlalchemy"
   ]
  },
  {
   "cell_type": "markdown",
   "metadata": {},
   "source": [
    "sqlalchemy allows us to connect and interact with databases from within Python\n",
    "\n",
    "Most of your SQL experience will be with connecting to a database that already exists. Most data analysts / data scientists are not the data base administrator and this is not a database administration course.\n",
    "\n",
    "You can download the chinook database file from the chinook database github:\n",
    "\n",
    "https://github.com/lerocha/chinook-database/tree/master/ChinookDatabase/DataSources"
   ]
  },
  {
   "cell_type": "code",
   "execution_count": 1,
   "metadata": {
    "slideshow": {
     "slide_type": "slide"
    },
    "tags": []
   },
   "outputs": [],
   "source": [
    "import pandas as pd"
   ]
  },
  {
   "cell_type": "code",
   "execution_count": 2,
   "metadata": {
    "slideshow": {
     "slide_type": "fragment"
    },
    "tags": []
   },
   "outputs": [],
   "source": [
    "from sqlalchemy import create_engine"
   ]
  },
  {
   "cell_type": "code",
   "execution_count": 3,
   "metadata": {},
   "outputs": [],
   "source": [
    "# create_engine creates a connection to an existing database\n",
    "# I have 'Chinook_sqlite.sqlite' downloaded into my folder, and python\n",
    "# connects to this database\n",
    "engine = create_engine('sqlite:///Chinook_Sqlite.sqlite')"
   ]
  },
  {
   "cell_type": "code",
   "execution_count": 4,
   "metadata": {
    "slideshow": {
     "slide_type": "fragment"
    },
    "tags": []
   },
   "outputs": [],
   "source": [
    "from sqlalchemy import inspect\n",
    "insp = inspect(engine) # creates an inspector"
   ]
  },
  {
   "cell_type": "code",
   "execution_count": null,
   "metadata": {},
   "outputs": [],
   "source": [
    "# Use the inspector to get table names\n",
    "# Save the table names to a list: table_names\n",
    "table_names = insp.get_table_names()\n",
    "\n",
    "# Print the table names to the shell\n",
    "print(table_names)"
   ]
  },
  {
   "cell_type": "markdown",
   "metadata": {
    "slideshow": {
     "slide_type": "slide"
    },
    "tags": []
   },
   "source": [
    "## Basics\n",
    "\n",
    "SQL is generally not case sensitive. Convention, however, puts SQL commands in ALL-CAPS and then leaves column and variable names in the same case as they appear in the table.\n",
    "\n",
    "semi-colons are not required to terminate SQL queries, but their usage is recommended.\n",
    "\n",
    "### `SELECT`\n",
    "\n",
    "`SELECT` is used to select variables from a given table. To select all columns, use `*`\n",
    "\n",
    "### `FROM`\n",
    "\n",
    "`FROM` specifies which table to select from."
   ]
  },
  {
   "cell_type": "markdown",
   "metadata": {
    "slideshow": {
     "slide_type": "slide"
    },
    "tags": []
   },
   "source": [
    "Once you create the database engine with `sqlalchemy`, we can begin executing SQL queries by establishing a connection with the database."
   ]
  },
  {
   "cell_type": "code",
   "execution_count": null,
   "metadata": {},
   "outputs": [],
   "source": [
    "from sqlalchemy import text"
   ]
  },
  {
   "cell_type": "code",
   "execution_count": null,
   "metadata": {
    "tags": []
   },
   "outputs": [],
   "source": [
    "# Open engine connection\n",
    "con = engine.connect()\n",
    "\n",
    "# Perform query and store results in rs\n",
    "# this will select all columns from the Album table\n",
    "rs = con.execute(text('SELECT * FROM Album;'))\n",
    "\n",
    "# Fetch all results of the query and save to DataFrame\n",
    "df = pd.DataFrame(rs.fetchall())\n",
    "\n",
    "# Close the connection to the engine\n",
    "con.close()\n",
    "\n",
    "# Print head of query results\n",
    "print(df.head(10))\n",
    "print(rs.keys())"
   ]
  },
  {
   "cell_type": "markdown",
   "metadata": {
    "slideshow": {
     "slide_type": "slide"
    },
    "tags": []
   },
   "source": [
    "Instead of having to open and close the engine connection, we can use Python's with statement which will automatically open and close the connection for us"
   ]
  },
  {
   "cell_type": "code",
   "execution_count": null,
   "metadata": {},
   "outputs": [],
   "source": [
    "# We can write our SQL command across multiple lines\n",
    "# enclosed in triple quotes\n",
    "command = '''\n",
    "SELECT FirstName, LastName, Title \n",
    "FROM Employee;\n",
    "'''\n",
    "\n",
    "# SELECT chooses the desired columns\n",
    "# FROM indicates the table to query\n",
    "\n",
    "with engine.connect() as con:\n",
    "    rs = con.execute(text(command))\n",
    "    df = pd.DataFrame(rs.fetchall())\n",
    "    df.columns = rs.keys()\n",
    "\n",
    "print(df)"
   ]
  },
  {
   "cell_type": "markdown",
   "metadata": {
    "slideshow": {
     "slide_type": "slide"
    },
    "tags": []
   },
   "source": [
    "Pandas offers functionality to directly query a SQL database using an existing engine"
   ]
  },
  {
   "cell_type": "code",
   "execution_count": null,
   "metadata": {},
   "outputs": [],
   "source": [
    "# we can use the same command as earlier:\n",
    "query = text(command)\n",
    "conn = engine.connect()\n",
    "df = pd.read_sql_query(query, conn)\n",
    "df"
   ]
  },
  {
   "cell_type": "markdown",
   "metadata": {
    "slideshow": {
     "slide_type": "slide"
    },
    "tags": []
   },
   "source": [
    "## `ORDER BY`"
   ]
  },
  {
   "cell_type": "markdown",
   "metadata": {},
   "source": [
    "ORDER BY is SQL's version of sort\n",
    "\n",
    "<https://www.w3schools.com/sql/sql_orderby.asp>\n",
    "\n",
    "```\n",
    "SELECT column1, column2, ...\n",
    "FROM table_name\n",
    "ORDER BY column1, column2, ... ASC|DESC;\n",
    "```"
   ]
  },
  {
   "cell_type": "code",
   "execution_count": null,
   "metadata": {
    "slideshow": {
     "slide_type": "slide"
    },
    "tags": []
   },
   "outputs": [],
   "source": [
    "command = '''\n",
    "SELECT * \n",
    "FROM Employee \n",
    "ORDER BY Birthdate DESC;\n",
    "'''\n",
    "pd.read_sql_query(text(command), conn)"
   ]
  },
  {
   "cell_type": "markdown",
   "metadata": {
    "slideshow": {
     "slide_type": "slide"
    },
    "tags": []
   },
   "source": [
    "## `WHERE`"
   ]
  },
  {
   "cell_type": "markdown",
   "metadata": {},
   "source": [
    "Filter row selection with WHERE. (similar to using if as a boolean mask)\n",
    "\n",
    "SQL uses single equal sign = for comparison"
   ]
  },
  {
   "cell_type": "code",
   "execution_count": null,
   "metadata": {},
   "outputs": [],
   "source": [
    "command = '''\n",
    "SELECT * \n",
    "FROM Employee \n",
    "WHERE EmployeeId >= 6 AND Title = 'IT Staff'\n",
    "ORDER BY BirthDate;\n",
    "'''\n",
    "pd.read_sql_query(text(command), conn)"
   ]
  },
  {
   "cell_type": "markdown",
   "metadata": {
    "slideshow": {
     "slide_type": "slide"
    },
    "tags": []
   },
   "source": [
    "### `JOIN` and `LIMIT`\n",
    "\n",
    "We can look at data across multiple tables using a `JOIN`\n",
    "\n",
    "`LIMIT` acts like \"head()\", and limits the number of entries it returns"
   ]
  },
  {
   "cell_type": "code",
   "execution_count": null,
   "metadata": {},
   "outputs": [],
   "source": [
    "command = '''\n",
    "SELECT * \n",
    "FROM Album\n",
    "LIMIT 10;\n",
    "'''\n",
    "pd.read_sql_query(text(command), conn)"
   ]
  },
  {
   "cell_type": "code",
   "execution_count": null,
   "metadata": {
    "slideshow": {
     "slide_type": "slide"
    },
    "tags": []
   },
   "outputs": [],
   "source": [
    "command = '''\n",
    "SELECT * \n",
    "FROM Artist\n",
    "LIMIT 10;\n",
    "'''\n",
    "pd.read_sql_query(text(command), conn)"
   ]
  },
  {
   "cell_type": "markdown",
   "metadata": {
    "slideshow": {
     "slide_type": "slide"
    },
    "tags": []
   },
   "source": [
    "`JOIN`\n",
    "\n",
    "`INNER JOIN` is a specific type of join. It keeps only rows where the key exists in both tables. If one table is missing an entry that exists in the other table, the entry will not be returned.\n",
    "\n",
    "When using a `JOIN`, specify the name of the table that is being joined and the columns used to match the rows. Columns are specified with dot notation. `TableName.ColumnName`"
   ]
  },
  {
   "cell_type": "code",
   "execution_count": null,
   "metadata": {
    "tags": []
   },
   "outputs": [],
   "source": [
    "command = '''\n",
    "SELECT * \n",
    "FROM Album\n",
    "INNER JOIN Artist ON Album.ArtistId = Artist.ArtistId\n",
    "LIMIT 10;\n",
    "'''\n",
    "pd.read_sql_query(text(command), conn)"
   ]
  },
  {
   "cell_type": "code",
   "execution_count": null,
   "metadata": {
    "slideshow": {
     "slide_type": "slide"
    },
    "tags": []
   },
   "outputs": [],
   "source": [
    "# you can rename columns using `AS`\n",
    "command = '''\n",
    "SELECT Title AS \"Album Title\", Name AS \"Artist Name\"\n",
    "FROM Album\n",
    "INNER JOIN Artist ON Album.ArtistId = Artist.ArtistId\n",
    "LIMIT 10;\n",
    "'''\n",
    "pd.read_sql_query(text(command), conn)"
   ]
  },
  {
   "cell_type": "markdown",
   "metadata": {
    "slideshow": {
     "slide_type": "slide"
    },
    "tags": []
   },
   "source": [
    "`GROUP BY` can be used to create groups to help calculate summary values\n",
    "\n",
    "`COUNT()` is one function that can be used to calculate summary values. Other summary functions include `SUM()` and `AVG()`"
   ]
  },
  {
   "cell_type": "code",
   "execution_count": null,
   "metadata": {
    "slideshow": {
     "slide_type": "slide"
    },
    "tags": []
   },
   "outputs": [],
   "source": [
    "command = '''\n",
    "SELECT Artist.ArtistId, Name, COUNT(AlbumId) AS album_count,\n",
    "  AVG(AlbumId) AS avg_id, SUM(AlbumID) as sum\n",
    "FROM Album\n",
    "INNER JOIN Artist ON Album.ArtistId = Artist.ArtistId\n",
    "GROUP BY Artist.ArtistId\n",
    "LIMIT 10;\n",
    "'''\n",
    "pd.read_sql_query(text(command), conn)"
   ]
  },
  {
   "cell_type": "code",
   "execution_count": null,
   "metadata": {
    "slideshow": {
     "slide_type": "slide"
    },
    "tags": []
   },
   "outputs": [],
   "source": [
    "# for comparison with previous table\n",
    "command = '''\n",
    "SELECT * \n",
    "FROM Album\n",
    "ORDER BY ArtistId\n",
    "LIMIT 15;\n",
    "'''\n",
    "\n",
    "pd.read_sql_query(text(command), conn)"
   ]
  },
  {
   "cell_type": "code",
   "execution_count": null,
   "metadata": {
    "slideshow": {
     "slide_type": "slide"
    },
    "tags": []
   },
   "outputs": [],
   "source": [
    "# Conditionals on the Group By must be done with 'HAVING'\n",
    "command = '''\n",
    "SELECT Artist.ArtistId, Name, COUNT(AlbumId) AS album_count\n",
    "FROM Album\n",
    "INNER JOIN Artist ON Album.ArtistId = Artist.ArtistId\n",
    "GROUP BY Artist.ArtistId\n",
    "HAVING album_count > 8;\n",
    "'''\n",
    "pd.read_sql_query(text(command), conn)"
   ]
  },
  {
   "cell_type": "code",
   "execution_count": null,
   "metadata": {
    "slideshow": {
     "slide_type": "slide"
    },
    "tags": []
   },
   "outputs": [],
   "source": [
    "command = '''\n",
    "SELECT ArtistId, ArtistId * 2 AS \"magic number\", Name\n",
    "From Artist \n",
    "LIMIT 10;\n",
    "'''\n",
    "pd.read_sql_query(text(command), conn)"
   ]
  },
  {
   "cell_type": "markdown",
   "metadata": {
    "slideshow": {
     "slide_type": "slide"
    },
    "tags": []
   },
   "source": [
    "## Table previews"
   ]
  },
  {
   "cell_type": "code",
   "execution_count": null,
   "metadata": {},
   "outputs": [],
   "source": [
    "command = '''\n",
    "SELECT * \n",
    "FROM Album\n",
    "LIMIT 5;\n",
    "'''\n",
    "pd.read_sql_query(text(command), conn)"
   ]
  },
  {
   "cell_type": "code",
   "execution_count": null,
   "metadata": {
    "tags": []
   },
   "outputs": [],
   "source": [
    "command = '''\n",
    "SELECT * \n",
    "FROM Artist\n",
    "LIMIT 5;\n",
    "'''\n",
    "pd.read_sql_query(text(command), conn)"
   ]
  },
  {
   "cell_type": "code",
   "execution_count": null,
   "metadata": {
    "slideshow": {
     "slide_type": "slide"
    },
    "tags": []
   },
   "outputs": [],
   "source": [
    "command = '''\n",
    "SELECT * \n",
    "FROM Invoice\n",
    "LIMIT 5;\n",
    "'''\n",
    "pd.read_sql_query(text(command), conn)"
   ]
  },
  {
   "cell_type": "code",
   "execution_count": null,
   "metadata": {
    "tags": []
   },
   "outputs": [],
   "source": [
    "command = '''\n",
    "SELECT * \n",
    "FROM InvoiceLine\n",
    "LIMIT 7;\n",
    "'''\n",
    "pd.read_sql_query(text(command), conn)"
   ]
  },
  {
   "cell_type": "code",
   "execution_count": null,
   "metadata": {
    "slideshow": {
     "slide_type": "slide"
    },
    "tags": []
   },
   "outputs": [],
   "source": [
    "command = '''\n",
    "SELECT * \n",
    "FROM Track\n",
    "LIMIT 6;\n",
    "'''\n",
    "pd.read_sql_query(text(command), conn)"
   ]
  },
  {
   "cell_type": "code",
   "execution_count": null,
   "metadata": {
    "tags": []
   },
   "outputs": [],
   "source": [
    "command = '''\n",
    "SELECT * \n",
    "FROM Customer\n",
    "LIMIT 5;\n",
    "'''\n",
    "pd.read_sql_query(text(command), conn)"
   ]
  },
  {
   "cell_type": "markdown",
   "metadata": {
    "slideshow": {
     "slide_type": "slide"
    },
    "tags": []
   },
   "source": [
    "# table aliases\n",
    "\n",
    "Provide a query showing the Invoices of customers who are from Brazil. The resultant table should show the customer's full name, Invoice ID, Date of the invoice and billing country."
   ]
  },
  {
   "cell_type": "code",
   "execution_count": null,
   "metadata": {},
   "outputs": [],
   "source": [
    "command = '''\n",
    "SELECT c.FirstName, c.lastname, \n",
    "    i.invoiceid, i.invoicedate, i.billingcountry    -- selects the desired columns\n",
    "FROM customer AS c                     -- provide an alias to the table, so we dont have to type the full name out\n",
    "    JOIN invoice AS i\n",
    "    ON c.customerid = i.customerid     -- this is how the tables are linked\n",
    "WHERE c.country = 'Brazil'\n",
    "LIMIT 20;                               -- limits how many rows we get back\n",
    "'''\n",
    "pd.read_sql_query(text(command), conn)"
   ]
  },
  {
   "cell_type": "markdown",
   "metadata": {
    "slideshow": {
     "slide_type": "slide"
    },
    "tags": []
   },
   "source": [
    "## `DISTINCT` \n",
    "\n",
    "Provide a query showing a unique list of billing countries from the Invoice table."
   ]
  },
  {
   "cell_type": "code",
   "execution_count": null,
   "metadata": {},
   "outputs": [],
   "source": [
    "command = '''\n",
    "SELECT DISTINCT billingcountry \n",
    "FROM invoice;\n",
    "'''\n",
    "pd.read_sql_query(text(command), conn)"
   ]
  },
  {
   "cell_type": "markdown",
   "metadata": {
    "slideshow": {
     "slide_type": "slide"
    },
    "tags": []
   },
   "source": [
    "## Joining three tables\n",
    "\n",
    "The following query shows the invoices associated with each sales agent.\n",
    "\n",
    "The invoice table has no information about employee. But each invoice has a customer and each customer has a support rep (employee). We connect the invoice table with the employee table by connecting them through the customer table"
   ]
  },
  {
   "cell_type": "code",
   "execution_count": null,
   "metadata": {},
   "outputs": [],
   "source": [
    "command = '''\n",
    "SELECT e.firstname, e.lastname,   -- employee first and last name\n",
    "       i.*   -- all columns from invoice table \n",
    "\n",
    "FROM invoice AS i\n",
    "    JOIN customer AS c\n",
    "    ON c.customerid = i.customerid\n",
    "\n",
    "    JOIN employee AS e\n",
    "    ON e.employeeid = c.supportrepid\n",
    "    \n",
    "ORDER BY e.employeeid;\n",
    "'''\n",
    "pd.read_sql_query(text(command), conn)"
   ]
  },
  {
   "cell_type": "markdown",
   "metadata": {
    "slideshow": {
     "slide_type": "slide"
    },
    "tags": []
   },
   "source": [
    "Following query shows the Invoice Total, Customer name, Country and Sale Agent name for all invoices and customers."
   ]
  },
  {
   "cell_type": "code",
   "execution_count": null,
   "metadata": {},
   "outputs": [],
   "source": [
    "command = '''\n",
    "SELECT i.InvoiceId, i.total,\n",
    "       e.firstname AS 'employee first', \n",
    "       e.lastname AS 'employee last', \n",
    "       c.firstname AS 'customer first', \n",
    "       c.lastname AS 'customer last', \n",
    "       c.country\n",
    "FROM employee AS e\n",
    "        JOIN customer AS c \n",
    "        ON e.employeeid = c.supportrepid\n",
    "        JOIN invoice AS i \n",
    "        ON c.customerid = i.customerid;\n",
    "'''\n",
    "pd.read_sql_query(text(command), conn)"
   ]
  },
  {
   "cell_type": "markdown",
   "metadata": {
    "slideshow": {
     "slide_type": "slide"
    },
    "tags": []
   },
   "source": [
    "How many Invoices were there in 2011? What are the total sales for that year?"
   ]
  },
  {
   "cell_type": "code",
   "execution_count": null,
   "metadata": {},
   "outputs": [],
   "source": [
    "command = '''\n",
    "SELECT invoiceId, InvoiceDate, total\n",
    "FROM invoice as i\n",
    "WHERE i.invoicedate BETWEEN datetime('2011-01-01') AND datetime('2011-12-31');\n",
    "'''\n",
    "pd.read_sql_query(text(command), conn)  # result has 83 rows"
   ]
  },
  {
   "cell_type": "code",
   "execution_count": null,
   "metadata": {
    "slideshow": {
     "slide_type": "slide"
    },
    "tags": []
   },
   "outputs": [],
   "source": [
    "command = '''\n",
    "SELECT count(i.invoiceId) as 'count',\n",
    "    sum(i.total) as 'sum'\n",
    "FROM invoice as i\n",
    "WHERE i.invoicedate BETWEEN datetime('2011-01-01') AND datetime('2011-12-31');\n",
    "'''\n",
    "pd.read_sql_query(text(command), conn)"
   ]
  },
  {
   "cell_type": "markdown",
   "metadata": {
    "slideshow": {
     "slide_type": "slide"
    },
    "tags": []
   },
   "source": [
    "Count how many orders were made on each day"
   ]
  },
  {
   "cell_type": "code",
   "execution_count": null,
   "metadata": {},
   "outputs": [],
   "source": [
    "command = '''\n",
    "SELECT i.InvoiceDate, count(i.invoiceId) as 'count'\n",
    "FROM invoice as i\n",
    "WHERE i.invoicedate BETWEEN datetime('2011-01-01') AND datetime('2011-12-31')\n",
    "GROUP BY i.invoiceDate;\n",
    "'''\n",
    "pd.read_sql_query(text(command), conn)"
   ]
  },
  {
   "cell_type": "markdown",
   "metadata": {
    "slideshow": {
     "slide_type": "slide"
    },
    "tags": []
   },
   "source": [
    "Looking at the InvoiceLine table, provide a query that COUNTs the number of line items for each Invoice."
   ]
  },
  {
   "cell_type": "code",
   "execution_count": null,
   "metadata": {},
   "outputs": [],
   "source": [
    "command = '''\n",
    "SELECT *\n",
    "FROM invoiceline\n",
    "LIMIT 10;\n",
    "'''\n",
    "pd.read_sql_query(text(command), conn)"
   ]
  },
  {
   "cell_type": "code",
   "execution_count": null,
   "metadata": {},
   "outputs": [],
   "source": [
    "command = '''\n",
    "SELECT invoiceid, count(invoicelineid) AS 'Count'\n",
    "FROM invoiceline\n",
    "GROUP BY invoiceid\n",
    "ORDER BY Count DESC;\n",
    "'''\n",
    "pd.read_sql_query(text(command), conn)"
   ]
  },
  {
   "cell_type": "markdown",
   "metadata": {
    "slideshow": {
     "slide_type": "slide"
    },
    "tags": []
   },
   "source": [
    "Find the invoice with the maximum number of Invoiceline IDs most elegant please\n",
    "\n",
    "CTE Common Table Expression - allows you to query tables that you created as intermediate steps"
   ]
  },
  {
   "cell_type": "code",
   "execution_count": null,
   "metadata": {},
   "outputs": [],
   "source": [
    "command = '''\n",
    "WITH InvoiceCounts (id, count) \n",
    "AS \n",
    "(  -- an intermediate table that aggregates the invoicelineIDs \n",
    "   -- pretty much the exact same table we generated in previous step\n",
    "    SELECT invoiceid, count(invoicelineid) AS 'Count'\n",
    "    FROM invoiceline\n",
    "    GROUP BY invoiceid\n",
    "    ORDER BY Count DESC\n",
    ")\n",
    "\n",
    "SELECT MAX(count) as Max, MIN(count) as Min\n",
    "FROM InvoiceCounts;\n",
    "'''\n",
    "pd.read_sql_query(text(command), conn)"
   ]
  },
  {
   "cell_type": "code",
   "execution_count": null,
   "metadata": {},
   "outputs": [],
   "source": [
    "command = '''\n",
    "WITH InvoiceCounts (id, count) \n",
    "AS \n",
    "(  -- an intermediate table that aggregates the invoicelineIDs \n",
    "   -- pretty much the exact same table we generated in previous step\n",
    "    SELECT invoiceid, count(invoicelineid) AS 'Count'\n",
    "    FROM invoiceline\n",
    "    GROUP BY invoiceid\n",
    "    ORDER BY Count DESC\n",
    ")\n",
    "\n",
    "SELECT count, COUNT(id) as \"HowMany\"\n",
    "FROM InvoiceCounts\n",
    "GROUP BY count;\n",
    "'''\n",
    "pd.read_sql_query(text(command), conn)"
   ]
  },
  {
   "cell_type": "markdown",
   "metadata": {
    "slideshow": {
     "slide_type": "slide"
    },
    "tags": []
   },
   "source": [
    "Provide a query that includes the purchased track name AND artist name with each invoice line item.\n"
   ]
  },
  {
   "cell_type": "code",
   "execution_count": null,
   "metadata": {},
   "outputs": [],
   "source": [
    "command = '''\n",
    "SELECT i.*, \n",
    "    t.name AS 'track', \n",
    "    ar.name AS 'artist'\n",
    "FROM invoiceline AS i\n",
    "        JOIN track AS t \n",
    "            ON i.trackid = t.trackid     -- i links to t\n",
    "        JOIN album AS al \n",
    "            ON t.albumid = al.albumid    -- t links to al\n",
    "        JOIN artist AS ar \n",
    "            ON al.artistid = ar.artistid;  -- al links to ar\n",
    "'''\n",
    "pd.read_sql_query(text(command), conn)"
   ]
  },
  {
   "cell_type": "code",
   "execution_count": null,
   "metadata": {},
   "outputs": [],
   "source": [
    "# Look up \n",
    "# differences betwen LEFT AND RIGHT JOINS\n",
    "# https://blog.codinghorror.com/a-visual-explanation-of-sql-joins/"
   ]
  },
  {
   "cell_type": "markdown",
   "metadata": {},
   "source": [
    "One table is of products\n",
    "Another table is of sales\n",
    "assume productid is the link\n",
    "\n",
    "how do find all the products that do not exist in the sales table?\n",
    "\n",
    "product_table AS p LEFT OUTER JOIN sales_table AS s\n",
    " ON p.productid = s.productid\n",
    " WHERE s.productid IS NULL"
   ]
  }
 ],
 "metadata": {
  "kernelspec": {
   "display_name": "Python 3",
   "language": "python",
   "name": "python3"
  },
  "language_info": {
   "codemirror_mode": {
    "name": "ipython",
    "version": 3
   },
   "file_extension": ".py",
   "mimetype": "text/x-python",
   "name": "python",
   "nbconvert_exporter": "python",
   "pygments_lexer": "ipython3",
   "version": "3.8.8"
  }
 },
 "nbformat": 4,
 "nbformat_minor": 4
}
